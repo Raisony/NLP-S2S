{
 "cells": [
  {
   "cell_type": "markdown",
   "metadata": {},
   "source": [
    "## Wavenet Properties"
   ]
  },
  {
   "cell_type": "markdown",
   "metadata": {},
   "source": [
    "- [Link to wavenet repo for code used below](https://github.com/ibab/tensorflow-wavenet)\n",
    "\n",
    "- Json file contains wavenet params, which are being displayed in output of cell below"
   ]
  },
  {
   "cell_type": "code",
   "execution_count": 1,
   "metadata": {
    "scrolled": true
   },
   "outputs": [
    {
     "name": "stdout",
     "output_type": "stream",
     "text": [
      "filter_width :  2\n",
      "sample_rate :  16000\n",
      "dilations :  [1, 2, 4, 8, 16, 32, 64, 128, 256, 512, 1, 2, 4, 8, 16, 32, 64, 128, 256, 512, 1, 2, 4, 8, 16, 32, 64, 128, 256, 512, 1, 2, 4, 8, 16, 32, 64, 128, 256, 512, 1, 2, 4, 8, 16, 32, 64, 128, 256, 512]\n",
      "residual_channels :  32\n",
      "dilation_channels :  32\n",
      "quantization_channels :  256\n",
      "skip_channels :  512\n",
      "use_biases :  True\n",
      "scalar_input :  False\n",
      "initial_filter_width :  32\n"
     ]
    }
   ],
   "source": [
    "import json\n",
    "\n",
    "with open('wavenet_params.json', 'r') as f:\n",
    "    wavenet_params = json.load(f)\n",
    "    \n",
    "for key in wavenet_params:\n",
    "    print(key, \": \",wavenet_params[key])"
   ]
  },
  {
   "cell_type": "markdown",
   "metadata": {},
   "source": [
    "**The authors have stacked 5 blocks of \\[1, 2, 4, 8, 16, 32, 64, 128, 256, 512\\] dilations**"
   ]
  },
  {
   "cell_type": "code",
   "execution_count": 2,
   "metadata": {},
   "outputs": [],
   "source": [
    "# from the code repository \n",
    "\n",
    "def calculate_receptive_field(filter_width, dilations, scalar_input, initial_filter_width):\n",
    "    receptive_field = (filter_width - 1) * sum(dilations) + 1\n",
    "    if scalar_input:\n",
    "        receptive_field += initial_filter_width - 1\n",
    "    else:\n",
    "        receptive_field += filter_width - 1\n",
    "    return receptive_field"
   ]
  },
  {
   "cell_type": "code",
   "execution_count": 3,
   "metadata": {},
   "outputs": [
    {
     "name": "stdout",
     "output_type": "stream",
     "text": [
      "Receptive filed of all stacked dialtions included :  5117\n"
     ]
    }
   ],
   "source": [
    "receptive_field = calculate_receptive_field(wavenet_params[\"filter_width\"],\n",
    "                                                           wavenet_params[\"dilations\"],\n",
    "                                                           wavenet_params[\"scalar_input\"],\n",
    "                                                           wavenet_params[\"initial_filter_width\"])\n",
    "print(\"Receptive filed of all stacked dialtions included : \" , receptive_field)"
   ]
  },
  {
   "cell_type": "code",
   "execution_count": 4,
   "metadata": {},
   "outputs": [
    {
     "name": "stdout",
     "output_type": "stream",
     "text": [
      "Receptive field of a single block:  1025\n"
     ]
    }
   ],
   "source": [
    "print(\"Receptive field of a single block: \",calculate_receptive_field(wavenet_params[\"filter_width\"],\n",
    "                                [1, 2, 4, 8, 16, 32, 64, 128, 256, 512],\n",
    "                                wavenet_params[\"scalar_input\"],\n",
    "                                wavenet_params[\"initial_filter_width\"]))"
   ]
  },
  {
   "cell_type": "markdown",
   "metadata": {},
   "source": [
    "**The paper says that the receptive field of \\[1, 2, 4, 8, 16, 32, 64, 128, 256, 512\\] block is 1024**"
   ]
  },
  {
   "cell_type": "code",
   "execution_count": 5,
   "metadata": {},
   "outputs": [
    {
     "name": "stdout",
     "output_type": "stream",
     "text": [
      "files length: 44242\n",
      "[[6.6434699e-03]\n",
      " [1.2343217e-02]\n",
      " [1.0841060e-02]\n",
      " ...\n",
      " [2.7900202e-05]\n",
      " [3.9438575e-05]\n",
      " [0.0000000e+00]] ./VCTK-Corpus/wav48/p256/p256_033.wav 256\n"
     ]
    }
   ],
   "source": [
    "# simplified code (derived from repo)\n",
    "\n",
    "import numpy as np\n",
    "import tensorflow as tf\n",
    "from wavenet import audio_reader\n",
    "\n",
    "for audio, filename, category_id in audio_reader.load_generic_audio('./VCTK-Corpus', wavenet_params['sample_rate']):\n",
    "    print (audio, filename, category_id)\n",
    "    break # reading only one audio file\n",
    "    \n",
    "# load_generic_audio function uses librosa to load the audio "
   ]
  },
  {
   "cell_type": "code",
   "execution_count": 6,
   "metadata": {},
   "outputs": [],
   "source": [
    "import sounddevice as sd\n",
    "\n",
    "# play audio before trimming the silence\n",
    "fs = 16000\n",
    "sd.play(audio, fs)"
   ]
  },
  {
   "cell_type": "code",
   "execution_count": 7,
   "metadata": {
    "scrolled": true
   },
   "outputs": [
    {
     "name": "stdout",
     "output_type": "stream",
     "text": [
      "Audio shape before trimming silence:  (79895, 1)\n"
     ]
    }
   ],
   "source": [
    "print(\"Audio shape before trimming silence: \", audio.shape)"
   ]
  },
  {
   "cell_type": "code",
   "execution_count": 8,
   "metadata": {},
   "outputs": [
    {
     "name": "stdout",
     "output_type": "stream",
     "text": [
      "Audio shape after trimming silence:  (25600,)\n"
     ]
    }
   ],
   "source": [
    "audio = audio_reader.trim_silence(audio[:, 0], 0.03)\n",
    "print(\"Audio shape after trimming silence: \", audio.shape)\n",
    "# trim_silence uses librosa to remove the silence\n",
    "# return empty array if the whole audio was silence\n",
    "\n",
    "\n",
    "# play audio after trimming the silence\n",
    "sd.play(audio, fs)"
   ]
  },
  {
   "cell_type": "code",
   "execution_count": 9,
   "metadata": {
    "scrolled": true
   },
   "outputs": [
    {
     "name": "stdout",
     "output_type": "stream",
     "text": [
      "(25600, 1)\n"
     ]
    }
   ],
   "source": [
    "audio = audio.reshape(-1, 1) # reshaping to column vector\n",
    "print(audio.shape) "
   ]
  },
  {
   "cell_type": "code",
   "execution_count": 10,
   "metadata": {
    "scrolled": true
   },
   "outputs": [
    {
     "name": "stdout",
     "output_type": "stream",
     "text": [
      "(30717, 1)\n"
     ]
    }
   ],
   "source": [
    "audio = np.pad(audio, [[receptive_field, 0], [0, 0]], 'constant')\n",
    "# prepend zeros of size of receptive field \n",
    "\n",
    "print(audio.shape)"
   ]
  },
  {
   "cell_type": "code",
   "execution_count": 11,
   "metadata": {},
   "outputs": [
    {
     "name": "stdout",
     "output_type": "stream",
     "text": [
      "[[0.        ]\n",
      " [0.        ]\n",
      " [0.        ]\n",
      " ...\n",
      " [0.02676006]\n",
      " [0.02716097]\n",
      " [0.02853504]]\n"
     ]
    }
   ],
   "source": [
    "print(audio)"
   ]
  },
  {
   "cell_type": "code",
   "execution_count": 12,
   "metadata": {},
   "outputs": [],
   "source": [
    "# Set up session\n",
    "sess = tf.Session(config=tf.ConfigProto(log_device_placement=False))\n",
    "init = tf.global_variables_initializer()\n",
    "sess.run(init)"
   ]
  },
  {
   "cell_type": "code",
   "execution_count": 13,
   "metadata": {},
   "outputs": [],
   "source": [
    "sample_size = 100000 # from train.py\n",
    "\n",
    "if sample_size:\n",
    "    # Cut samples into pieces of size receptive_field +\n",
    "    # sample_size with receptive_field overlap\n",
    "    while len(audio) > receptive_field:\n",
    "        piece = audio[:(receptive_field + sample_size), :]\n",
    "        # sess.run(self.enqueue, feed_dict={self.sample_placeholder: piece})\n",
    "        audio = audio[sample_size:, :]\n",
    "        \n",
    "# else:\n",
    "#     sess.run(self.enqueue, feed_dict={self.sample_placeholder: piece})"
   ]
  },
  {
   "cell_type": "markdown",
   "metadata": {},
   "source": [
    "## Parameters used in Tacotron-2 implementation\n",
    "\n",
    "- [Link to tacotron repo for following code](https://github.com/Rayhane-mamah/Tacotron-2/)\n",
    "\n",
    "- This implementation uses simplified wavenet as explained in Tacotron-2 paper\n",
    "    - [Tacotron-2 uses 20 dilation layers](https://github.com/Rayhane-mamah/Tacotron-2/blob/432bbe1aff4276a1a31edd08472e29d3c07b8300/hparams.py#L200)\n",
    "    - [2 stacks are used in Tacotron-2 (5 stacks are used in original Wavenet)](https://github.com/Rayhane-mamah/Tacotron-2/blob/432bbe1aff4276a1a31edd08472e29d3c07b8300/hparams.py#L201)\n",
    "\n",
    "- [Hyperparameters are available in hparams.py of the repo](https://github.com/Rayhane-mamah/Tacotron-2/blob/master/hparams.py)"
   ]
  },
  {
   "cell_type": "code",
   "execution_count": 14,
   "metadata": {},
   "outputs": [
    {
     "name": "stdout",
     "output_type": "stream",
     "text": [
      "Number of dilation layers per stack :  10\n",
      "Dilations :  [1, 2, 4, 8, 16, 32, 64, 128, 256, 512, 1, 2, 4, 8, 16, 32, 64, 128, 256, 512]\n"
     ]
    }
   ],
   "source": [
    "# simplified code (derived from repo)\n",
    "\n",
    "layers = 20\n",
    "stacks = 2\n",
    "layers_per_stack = layers // stacks\n",
    "print(\"Number of dilation layers per stack : \", layers_per_stack)\n",
    "\n",
    "dilation_rate = []\n",
    "for layer in range(layers):\n",
    "        dilation_rate.append(2 ** (layer % layers_per_stack))\n",
    "\n",
    "print(\"Dilations : \", dilation_rate)"
   ]
  },
  {
   "cell_type": "code",
   "execution_count": 15,
   "metadata": {},
   "outputs": [],
   "source": [
    "#Mel spectrogram\n",
    "n_fft = 2048, #Extra window size is filled with 0 paddings to match this parameter\n",
    "hop_size = 275, #For 22050Hz, 275 ~= 12.5 ms (0.0125 * sample_rate)\n",
    "win_size = 1100, #For 22050Hz, 1100 ~= 50 ms (If None, win_size = n_fft) (0.05 * sample_rate)\n",
    "sample_rate = 22050, #22050 Hz (corresponding to ljspeech dataset) (sox --i <filename>)\n",
    "frame_shift_ms = None, #Can replace hop_size parameter. (Recommended: 12.5)"
   ]
  },
  {
   "cell_type": "markdown",
   "metadata": {},
   "source": [
    "---"
   ]
  },
  {
   "cell_type": "markdown",
   "metadata": {},
   "source": [
    "# WaveNet Network architecture \n",
    "\n",
    "**Screenshots from TensorBoard**\n",
    "\n",
    "![graph1.png](./images/graph1.png)\n",
    "\n",
    "---\n",
    "Expanded view of wavenet_1 and wavenet\n",
    "\n",
    "---\n",
    "\n",
    "![graph2.png](./images/graph2.png)\n",
    "\n",
    "**As the name suggests dilated_stack name scope in both wavenet and wavenet_1 blocks have 50 dilation layers**\n",
    "![graph3.png](./images/graph3.png)"
   ]
  },
  {
   "cell_type": "markdown",
   "metadata": {},
   "source": [
    "## Extracting the weights"
   ]
  },
  {
   "cell_type": "code",
   "execution_count": 1,
   "metadata": {},
   "outputs": [],
   "source": [
    "import numpy as np\n",
    "import matplotlib.pyplot as plt\n",
    "\n",
    "%matplotlib inline"
   ]
  },
  {
   "cell_type": "code",
   "execution_count": 2,
   "metadata": {},
   "outputs": [],
   "source": [
    "d = np.load(\"./weights.npz\")  # load the saved weights"
   ]
  },
  {
   "cell_type": "code",
   "execution_count": 3,
   "metadata": {},
   "outputs": [],
   "source": [
    "var_names = d.files  # get the names of variables"
   ]
  },
  {
   "cell_type": "code",
   "execution_count": 4,
   "metadata": {
    "scrolled": false
   },
   "outputs": [
    {
     "name": "stdout",
     "output_type": "stream",
     "text": [
      "['wavenet/causal_layer/filter', 'wavenet/dilated_stack/layer0/filter', 'wavenet/dilated_stack/layer0/gate', 'wavenet/dilated_stack/layer0/dense', 'wavenet/dilated_stack/layer0/skip', 'wavenet/dilated_stack/layer0/Variable', 'wavenet/dilated_stack/layer0/Variable_1', 'wavenet/dilated_stack/layer0/Variable_2', 'wavenet/dilated_stack/layer0/Variable_3', 'wavenet/dilated_stack/layer1/filter']\n"
     ]
    }
   ],
   "source": [
    "len(var_names) # only variable in the namespace 'wavenet' as restored while generated wav files \n",
    "# from 'wavenet' namespace there are 405 output tensors\n",
    "print(var_names[:10]) # print first 10 variable names"
   ]
  },
  {
   "cell_type": "code",
   "execution_count": 5,
   "metadata": {},
   "outputs": [
    {
     "name": "stdout",
     "output_type": "stream",
     "text": [
      "wavenet/causal_layer/filter (2, 256, 32)\n"
     ]
    },
    {
     "data": {
      "image/png": "[encoded data removed]",
      "text/plain": [
       "<Figure size 720x504 with 2 Axes>"
      ]
     },
     "metadata": {
      "needs_background": "light"
     },
     "output_type": "display_data"
    }
   ],
   "source": [
    "var1 = d[var_names[0]] # get the weights for first variable in causal layer in wavenet\n",
    "print(var_names[0], var1.shape) # filter in causal layer has shape 2x256x32\n",
    "\n",
    "# plot histogram\n",
    "plt.figure(figsize=(10, 7))\n",
    "\n",
    "plt.subplot(211)\n",
    "plt.xlabel('Value of Weights')\n",
    "plt.ylabel('Frequncy')\n",
    "plt.hist(var1[0])\n",
    "\n",
    "plt.subplot(212)\n",
    "plt.hist(var1[1])\n",
    "\n",
    "plt.tight_layout()"
   ]
  },
  {
   "cell_type": "code",
   "execution_count": 6,
   "metadata": {},
   "outputs": [
    {
     "name": "stdout",
     "output_type": "stream",
     "text": [
      "wavenet/dilated_stack/layer0/filter (2, 32, 32)\n"
     ]
    },
    {
     "data": {
      "image/png": "[encoded data removed]",
      "text/plain": [
       "<Figure size 720x504 with 2 Axes>"
      ]
     },
     "metadata": {
      "needs_background": "light"
     },
     "output_type": "display_data"
    }
   ],
   "source": [
    "var2 = d[var_names[1]] # get the weights for first variable in causal layer in wavenet\n",
    "print(var_names[1], var2.shape) # filter in causal layer has shape 2x256x32\n",
    "\n",
    "# plot histogram\n",
    "plt.figure(figsize=(10, 7))\n",
    "\n",
    "plt.subplot(211)\n",
    "plt.xlabel('Value of Weights')\n",
    "plt.ylabel('Frequncy')\n",
    "plt.hist(var2[0])\n",
    "\n",
    "plt.subplot(212)\n",
    "plt.hist(var2[1])\n",
    "\n",
    "plt.tight_layout()"
   ]
  },
  {
   "cell_type": "markdown",
   "metadata": {},
   "source": [
    "## Readind the npz and h5 files"
   ]
  },
  {
   "cell_type": "code",
   "execution_count": 7,
   "metadata": {},
   "outputs": [],
   "source": [
    "class read_files:\n",
    "    \"\"\"Class to read npz and h5 files\"\"\"\n",
    "    \n",
    "    def get_file_names(self):\n",
    "        \"\"\"Returns two lists\n",
    "        First list contains the file names for h5 files\n",
    "        Second list contains the files names for npz files\n",
    "        \"\"\"\n",
    "        names = np.loadtxt('file_names.txt', dtype='str')\n",
    "        h5_file_names = ['./h5/'+name+'.h5' for name in names]\n",
    "        npz_file_names = ['./npz/'+name+'.npz' for name in names]\n",
    "        return h5_file_names, npz_file_names\n",
    "        \n",
    "    def read_h5_file(self, file_path):\n",
    "        \"\"\"\n",
    "        Returns data read from the h5 file at 'file_path'\n",
    "        \"\"\"\n",
    "        import h5py\n",
    "        h5f = h5py.File(file_path, 'r')\n",
    "        x = h5f[list(h5f.keys())[0]][:]\n",
    "        h5f.close()\n",
    "        return x\n",
    "    \n",
    "    def read_npz_file(self, file_path):\n",
    "        \"\"\"\n",
    "        Returns data read from the npz file at 'file_path'\n",
    "        \"\"\"\n",
    "        import numpy\n",
    "        data = numpy.load(file_path)\n",
    "        return data['arr_0'] # arr_0 is used as only one ndarray is saved per file"
   ]
  },
  {
   "cell_type": "code",
   "execution_count": 8,
   "metadata": {},
   "outputs": [
    {
     "name": "stdout",
     "output_type": "stream",
     "text": [
      "[[[ 0.13198492  0.44143334 -0.6503136  ...  0.3729906   0.4267268\n",
      "   -0.40751252]\n",
      "  [ 0.23740217  0.49362502 -0.5836682  ...  0.30807042  0.28862318\n",
      "   -0.3121164 ]\n",
      "  [ 0.27004355  0.3804924  -0.6907175  ...  0.40720135  0.2708221\n",
      "   -0.30069882]\n",
      "  ...\n",
      "  [-0.18564308 -0.27960992  0.30621395 ...  0.07690006 -0.03034524\n",
      "    0.00414981]\n",
      "  [-0.17853643 -0.31269887  0.22084887 ...  0.27784044 -0.04692093\n",
      "   -0.05483755]\n",
      "  [-0.21037945 -0.32274288  0.24870642 ...  0.1797606   0.11793226\n",
      "   -0.01017052]]\n",
      "\n",
      " [[-0.28731468 -0.38454184 -0.01629513 ...  0.38833877  0.05260267\n",
      "   -0.70548093]\n",
      "  [-0.2991783  -0.4305066  -0.04512043 ...  0.42956793 -0.06338572\n",
      "   -0.5187924 ]\n",
      "  [-0.17177151 -0.40136555 -0.1727786  ...  0.5342519   0.08970906\n",
      "   -0.52208334]\n",
      "  ...\n",
      "  [-0.08396912 -0.00823107 -0.51682216 ...  0.7147563   0.25141755\n",
      "   -0.39385006]\n",
      "  [-0.0300974   0.02468077 -0.46505406 ...  0.71779674  0.2070059\n",
      "   -0.32100356]\n",
      "  [-0.02810353  0.08702274 -0.56245536 ...  0.8140703   0.47020254\n",
      "   -0.40303138]]]\n",
      "[[[ 0.13198492  0.44143334 -0.6503136  ...  0.3729906   0.4267268\n",
      "   -0.40751252]\n",
      "  [ 0.23740217  0.49362502 -0.5836682  ...  0.30807042  0.28862318\n",
      "   -0.3121164 ]\n",
      "  [ 0.27004355  0.3804924  -0.6907175  ...  0.40720135  0.2708221\n",
      "   -0.30069882]\n",
      "  ...\n",
      "  [-0.18564308 -0.27960992  0.30621395 ...  0.07690006 -0.03034524\n",
      "    0.00414981]\n",
      "  [-0.17853643 -0.31269887  0.22084887 ...  0.27784044 -0.04692093\n",
      "   -0.05483755]\n",
      "  [-0.21037945 -0.32274288  0.24870642 ...  0.1797606   0.11793226\n",
      "   -0.01017052]]\n",
      "\n",
      " [[-0.28731468 -0.38454184 -0.01629513 ...  0.38833877  0.05260267\n",
      "   -0.70548093]\n",
      "  [-0.2991783  -0.4305066  -0.04512043 ...  0.42956793 -0.06338572\n",
      "   -0.5187924 ]\n",
      "  [-0.17177151 -0.40136555 -0.1727786  ...  0.5342519   0.08970906\n",
      "   -0.52208334]\n",
      "  ...\n",
      "  [-0.08396912 -0.00823107 -0.51682216 ...  0.7147563   0.25141755\n",
      "   -0.39385006]\n",
      "  [-0.0300974   0.02468077 -0.46505406 ...  0.71779674  0.2070059\n",
      "   -0.32100356]\n",
      "  [-0.02810353  0.08702274 -0.56245536 ...  0.8140703   0.47020254\n",
      "   -0.40303138]]]\n"
     ]
    }
   ],
   "source": [
    "# files are stores as ./h5/wavenet/... and ./npz/wavenet/...\n",
    "# ex: ./h5/wavenet/causal_layer/filter.h5 or ./npz/wavenet/causal_layer/filter.npz\n",
    "# file names can be obtained from get_file_names() method in read_files class\n",
    "\n",
    "rf = read_files() # create object of read_files class\n",
    "h5_paths, npz_paths = rf.get_file_names() # call the get_file_names method to get the file names\n",
    "\n",
    "# iterate through the file names and call the read_h5_file and read_npz_file methods\n",
    "# to get the data from the files\n",
    "\n",
    "for npz_path in npz_paths:\n",
    "    print(rf.read_npz_file(npz_path))\n",
    "    break # breaking only to display the data from first file\n",
    "    \n",
    "# similarly for the h5 files\n",
    "for h5_path in h5_paths:\n",
    "    print(rf.read_h5_file(h5_path))\n",
    "    break # breaking only to display the data from first file"
   ]
  },
  {
   "cell_type": "code",
   "execution_count": null,
   "metadata": {},
   "outputs": [],
   "source": []
  }
 ],
 "metadata": {
  "kernelspec": {
   "display_name": "Python 3",
   "language": "python",
   "name": "python3"
  },
  "language_info": {
   "codemirror_mode": {
    "name": "ipython",
    "version": 3
   },
   "file_extension": ".py",
   "mimetype": "text/x-python",
   "name": "python",
   "nbconvert_exporter": "python",
   "pygments_lexer": "ipython3",
   "version": "3.6.8"
  }
 },
 "nbformat": 4,
 "nbformat_minor": 2
}
